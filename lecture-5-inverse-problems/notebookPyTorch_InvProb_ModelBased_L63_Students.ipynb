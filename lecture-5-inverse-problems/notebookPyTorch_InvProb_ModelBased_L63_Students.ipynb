{
  "nbformat": 4,
  "nbformat_minor": 0,
  "metadata": {
    "colab": {
      "name": "notebookPyTorch_InvProb_ModelBased_L63_Students.ipynb",
      "provenance": [],
      "collapsed_sections": [
        "3xBXaOz7_gfA"
      ],
      "toc_visible": true,
      "authorship_tag": "ABX9TyNvW/XenRXCOR0uD6R52Mg+",
      "include_colab_link": true
    },
    "kernelspec": {
      "name": "python3",
      "display_name": "Python 3"
    },
    "accelerator": "GPU"
  },
  "cells": [
    {
      "cell_type": "markdown",
      "metadata": {
        "id": "view-in-github",
        "colab_type": "text"
      },
      "source": [
        "<a href=\"https://colab.research.google.com/github/CIA-Oceanix/DLGD2021/blob/main/lecture-5-inverse-problems/notebookPyTorch_InvProb_ModelBased_L63_Students.ipynb\" target=\"_parent\"><img src=\"https://colab.research.google.com/assets/colab-badge.svg\" alt=\"Open In Colab\"/></a>"
      ]
    },
    {
      "cell_type": "markdown",
      "metadata": {
        "id": "uwQipky_cRbQ"
      },
      "source": [
        "**Notebook for the implementation of model-based inversion scheme**: Application to the Data Assimilation of Lorenz-63 dynamics given noisy and partial observations.\n",
        "\n",
        "We consider model-based formulation based on the following variational minimization\n",
        "$$\\arg \\min_x \\| x - y\\|^2_\\Omega + \\lambda \\|x-\\Phi(x)\\|^2 $$\n",
        "\n",
        "The notebook addresses two approaches which differ in the considered prior $\\Phi$\n",
        "*   *Weak-Constrained 4DVar formulation* with the true ODE-based prior: Pytorch implementation of the gradient descent. You need to code the computation of the gradient of tha variational cost using automatic differentiation tool.\n",
        "*   *Exploration of a pretrained plug-and-play prior*: Pytorch gradient descent with a PCA-based prior. You need to compute the loss for such a PCA-based prior. \n",
        "\n",
        "*Possible extensions*: (i) evaluation of the reconstruction performance depending on the considered observation setting (i.e., sampling and noise), (ii) intercomparison of different types of plug-and-play"
      ]
    },
    {
      "cell_type": "code",
      "metadata": {
        "id": "jEDUuvB92-Sr"
      },
      "source": [
        "import numpy as np\n",
        "import matplotlib.pyplot as plt \n",
        "import os\n",
        "import tensorflow.keras as keras\n",
        "\n",
        "import time\n",
        "import copy\n",
        "import torch\n",
        "import torch.optim as optim\n",
        "from torch.optim import lr_scheduler\n",
        "import torch.nn.functional as F\n",
        "\n",
        "from sklearn import decomposition"
      ],
      "execution_count": null,
      "outputs": []
    },
    {
      "cell_type": "code",
      "metadata": {
        "id": "OVn8gpSf3HA5",
        "colab": {
          "base_uri": "https://localhost:8080/"
        },
        "outputId": "5941024a-2ffa-4de6-d47c-dd04b529c95b"
      },
      "source": [
        "!pip install torchviz\n",
        "import torchviz"
      ],
      "execution_count": null,
      "outputs": [
        {
          "output_type": "stream",
          "name": "stdout",
          "text": [
            "Collecting torchviz\n",
            "  Downloading torchviz-0.0.2.tar.gz (4.9 kB)\n",
            "Requirement already satisfied: torch in /usr/local/lib/python3.7/dist-packages (from torchviz) (1.10.0+cu111)\n",
            "Requirement already satisfied: graphviz in /usr/local/lib/python3.7/dist-packages (from torchviz) (0.10.1)\n",
            "Requirement already satisfied: typing-extensions in /usr/local/lib/python3.7/dist-packages (from torch->torchviz) (3.10.0.2)\n",
            "Building wheels for collected packages: torchviz\n",
            "  Building wheel for torchviz (setup.py) ... \u001b[?25l\u001b[?25hdone\n",
            "  Created wheel for torchviz: filename=torchviz-0.0.2-py3-none-any.whl size=4151 sha256=c5002f8069a283a176624f6026fcb25ab4f2e0774a80d2032f5cf1317bc859c3\n",
            "  Stored in directory: /root/.cache/pip/wheels/04/38/f5/dc4f85c3909051823df49901e72015d2d750bd26b086480ec2\n",
            "Successfully built torchviz\n",
            "Installing collected packages: torchviz\n",
            "Successfully installed torchviz-0.0.2\n"
          ]
        }
      ]
    },
    {
      "cell_type": "markdown",
      "metadata": {
        "id": "h1FjHV_K3W9s"
      },
      "source": [
        "# L63 Data simulation"
      ]
    },
    {
      "cell_type": "code",
      "metadata": {
        "id": "SHqmY7kiqlqh",
        "colab": {
          "base_uri": "https://localhost:8080/",
          "height": 283
        },
        "outputId": "50b3df5f-7ca7-4e63-c912-1c1baddcfe32"
      },
      "source": [
        "#os.chdir('/content/drive/My Drive/Colab Notebooks/AnDA')\n",
        "from scipy.integrate import odeint\n",
        "from scipy.integrate import solve_ivp\n",
        "#from AnDA_codes.AnDA_dynamical_models import AnDA_Lorenz_63, AnDA_Lorenz_96\n",
        "\n",
        "def AnDA_Lorenz_63(S,t,sigma,rho,beta):\n",
        "    \"\"\" Lorenz-63 dynamical model. \"\"\"\n",
        "    x_1 = sigma*(S[1]-S[0]);\n",
        "    x_2 = S[0]*(rho-S[2])-S[1];\n",
        "    x_3 = S[0]*S[1] - beta*S[2];\n",
        "    dS  = np.array([x_1,x_2,x_3]);\n",
        "    return dS\n",
        "\n",
        "class GD:\n",
        "    model = 'Lorenz_63'\n",
        "    class parameters:\n",
        "        sigma = 10.0\n",
        "        rho = 28.0\n",
        "        beta = 8.0/3\n",
        "    dt_integration = 0.01 # integration time\n",
        "    dt_states = 1 # number of integeration times between consecutive states (for xt and catalog)\n",
        "    dt_obs = 8 # number of integration times between consecutive observations (for yo)\n",
        "    var_obs = np.array([0,1,2]) # indices of the observed variables\n",
        "    nb_loop_train = 10**2 # size of the catalog\n",
        "    nb_loop_test = 10000 # size of the true state and noisy observations\n",
        "    sigma2_catalog = 0.0 # variance of the model error to generate the catalog\n",
        "    sigma2_obs = 2.0 # variance of the observation error to generate observation\n",
        "\n",
        "GD = GD()    \n",
        "y0 = np.array([8.0,0.0,30.0])\n",
        "tt = np.arange(GD.dt_integration,GD.nb_loop_test*GD.dt_integration+0.000001,GD.dt_integration)\n",
        "#S = odeint(AnDA_Lorenz_63,x0,np.arange(0,5+0.000001,GD.dt_integration),args=(GD.parameters.sigma,GD.parameters.rho,GD.parameters.beta));\n",
        "S = solve_ivp(fun=lambda t,y: AnDA_Lorenz_63(y,t,GD.parameters.sigma,GD.parameters.rho,GD.parameters.beta),t_span=[0.,5+0.000001],y0=y0,first_step=GD.dt_integration,t_eval=np.arange(0,5+0.000001,GD.dt_integration),method='RK45')\n",
        "\n",
        "y0 = S.y[:,-1];\n",
        "S = solve_ivp(fun=lambda t,y: AnDA_Lorenz_63(y,t,GD.parameters.sigma,GD.parameters.rho,GD.parameters.beta),t_span=[0.01,GD.nb_loop_test+0.000001],y0=y0,first_step=GD.dt_integration,t_eval=tt,method='RK45')\n",
        "S = S.y.transpose()\n",
        "\n",
        "print(S.shape)\n",
        "plt.figure(1)\n",
        "for jj in range(0,3):\n",
        "  plt.subplot(131+jj)\n",
        "  plt.plot(S[:,jj])\n",
        "  \n",
        "class time_series:\n",
        "  values = 0.\n",
        "  time   = 0.\n",
        "  \n",
        "xt = time_series()\n",
        "xt.values = S\n",
        "xt.time   = tt"
      ],
      "execution_count": null,
      "outputs": [
        {
          "output_type": "stream",
          "name": "stdout",
          "text": [
            "(10000, 3)\n"
          ]
        },
        {
          "output_type": "display_data",
          "data": {
            "image/png": "[encoded data removed]",
            "text/plain": [
              "<Figure size 432x288 with 3 Axes>"
            ]
          },
          "metadata": {
            "needs_background": "light"
          }
        }
      ]
    },
    {
      "cell_type": "code",
      "metadata": {
        "id": "evPeYsgv0GOg",
        "colab": {
          "base_uri": "https://localhost:8080/"
        },
        "outputId": "6a044762-0993-49b7-c10b-e75a8378cd59"
      },
      "source": [
        "####################################################\n",
        "## Generation of training and test dataset\n",
        "## Extraction of time series of dT time steps            \n",
        "NbTraining = 5000\n",
        "NbTest     = 2000#256\n",
        "time_step = 1\n",
        "dT        = 200\n",
        "sigNoise  = np.sqrt(2.0)\n",
        "rateMissingData = (1-1./8.)#0.75#0.95\n",
        "  \n",
        "xt = time_series()\n",
        "xt.values = S\n",
        "xt.time   = tt\n",
        "# extract subsequences\n",
        "dataTrainingNoNaN = image.extract_patches_2d(xt.values[0:7500:time_step,:],(dT,3),max_patches=NbTraining)\n",
        "dataTestNoNaN     = image.extract_patches_2d(xt.values[8000::time_step,:],(dT,3),max_patches=NbTest)\n",
        "\n",
        "# create missing data\n",
        "flagTypeMissData = 1\n",
        "if flagTypeMissData == 0:\n",
        "    print('..... Observation pattern: Random sampling of osberved L63 components')\n",
        "    indRand         = np.random.permutation(dataTrainingNoNaN.shape[0]*dataTrainingNoNaN.shape[1]*dataTrainingNoNaN.shape[2])\n",
        "    indRand         = indRand[0:int(rateMissingData*len(indRand))]\n",
        "    dataTraining    = np.copy(dataTrainingNoNaN).reshape((dataTrainingNoNaN.shape[0]*dataTrainingNoNaN.shape[1]*dataTrainingNoNaN.shape[2],1))\n",
        "    dataTraining[indRand] = float('nan')\n",
        "    dataTraining    = np.reshape(dataTraining,(dataTrainingNoNaN.shape[0],dataTrainingNoNaN.shape[1],dataTrainingNoNaN.shape[2]))\n",
        "    \n",
        "    indRand         = np.random.permutation(dataTestNoNaN.shape[0]*dataTestNoNaN.shape[1]*dataTestNoNaN.shape[2])\n",
        "    indRand         = indRand[0:int(rateMissingData*len(indRand))]\n",
        "    dataTest        = np.copy(dataTestNoNaN).reshape((dataTestNoNaN.shape[0]*dataTestNoNaN.shape[1]*dataTestNoNaN.shape[2],1))\n",
        "    dataTest[indRand] = float('nan')\n",
        "    dataTest          = np.reshape(dataTest,(dataTestNoNaN.shape[0],dataTestNoNaN.shape[1],dataTestNoNaN.shape[2]))\n",
        "\n",
        "    genSuffixObs    = '_ObsRnd_%02d_%02d'%(100*rateMissingData,10*sigNoise**2)\n",
        "elif flagTypeMissData == 2:\n",
        "    print('..... Observation pattern: Only the first L63 component is osberved')\n",
        "    time_step_obs   = int(1./(1.-rateMissingData))\n",
        "    dataTraining    = np.zeros((dataTrainingNoNaN.shape))\n",
        "    dataTraining[:] = float('nan')\n",
        "    dataTraining[:,::time_step_obs,0] = dataTrainingNoNaN[:,::time_step_obs,0]\n",
        "    \n",
        "    dataTest    = np.zeros((dataTestNoNaN.shape))\n",
        "    dataTest[:] = float('nan')\n",
        "    dataTest[:,::time_step_obs,0] = dataTestNoNaN[:,::time_step_obs,0]\n",
        "\n",
        "    genSuffixObs    = '_ObsDim0_%02d_%02d'%(100*rateMissingData,10*sigNoise**2)\n",
        "   \n",
        "else:\n",
        "    print('..... Observation pattern: All  L63 components osberved')\n",
        "    time_step_obs   = int(1./(1.-rateMissingData))\n",
        "    dataTraining    = np.zeros((dataTrainingNoNaN.shape))\n",
        "    dataTraining[:] = float('nan')\n",
        "    dataTraining[:,::time_step_obs,:] = dataTrainingNoNaN[:,::time_step_obs,:]\n",
        "    \n",
        "    dataTest    = np.zeros((dataTestNoNaN.shape))\n",
        "    dataTest[:] = float('nan')\n",
        "    dataTest[:,::time_step_obs,:] = dataTestNoNaN[:,::time_step_obs,:]\n",
        "\n",
        "    genSuffixObs    = '_ObsSub_%02d_%02d'%(100*rateMissingData,10*sigNoise**2)\n",
        "    \n",
        "# set to NaN patch boundaries\n",
        "dataTraining[:,0:10,:] =  float('nan')\n",
        "dataTest[:,0:10,:]     =  float('nan')\n",
        "dataTraining[:,dT-10:dT,:] =  float('nan')\n",
        "dataTest[:,dT-10:dT,:]     =  float('nan')\n",
        "\n",
        "# mask for NaN\n",
        "maskTraining = (dataTraining == dataTraining).astype('float')\n",
        "maskTest     = ( dataTest    ==  dataTest   ).astype('float')\n",
        "\n",
        "dataTraining = np.nan_to_num(dataTraining)\n",
        "dataTest     = np.nan_to_num(dataTest)\n",
        "\n",
        "# Permutation to have channel as #1 component\n",
        "dataTraining      = np.moveaxis(dataTraining,-1,1)\n",
        "maskTraining      = np.moveaxis(maskTraining,-1,1)\n",
        "dataTrainingNoNaN = np.moveaxis(dataTrainingNoNaN,-1,1)\n",
        "\n",
        "dataTest      = np.moveaxis(dataTest,-1,1)\n",
        "maskTest      = np.moveaxis(maskTest,-1,1)\n",
        "dataTestNoNaN = np.moveaxis(dataTestNoNaN,-1,1)\n",
        "\n",
        "# set to NaN patch boundaries\n",
        "#dataTraining[:,0:5,:] =  dataTrainingNoNaN[:,0:5,:]\n",
        "#dataTest[:,0:5,:]     =  dataTestNoNaN[:,0:5,:]\n",
        "\n",
        "############################################\n",
        "## raw data\n",
        "X_train         = dataTrainingNoNaN\n",
        "X_train_missing = dataTraining\n",
        "mask_train      = maskTraining\n",
        "\n",
        "X_test         = dataTestNoNaN\n",
        "X_test_missing = dataTest\n",
        "mask_test      = maskTest\n",
        "\n",
        "############################################\n",
        "## normalized data\n",
        "meanTr          = np.mean(X_train_missing[:]) / np.mean(mask_train) \n",
        "stdTr           = np.sqrt( np.mean( (X_train_missing-meanTr)**2 ) / np.mean(mask_train) )\n",
        "\n",
        "if flagTypeMissData == 2:\n",
        "    meanTr          = np.mean(X_train[:]) \n",
        "    stdTr           = np.sqrt( np.mean( (X_train-meanTr)**2 ) )\n",
        "\n",
        "x_train_missing = ( X_train_missing - meanTr ) / stdTr\n",
        "x_test_missing  = ( X_test_missing - meanTr ) / stdTr\n",
        "\n",
        "# scale wrt std\n",
        "\n",
        "x_train = (X_train - meanTr) / stdTr\n",
        "x_test  = (X_test - meanTr) / stdTr\n",
        "\n",
        "print('.... MeanTr = %.3f --- StdTr = %.3f '%(meanTr,stdTr))\n",
        "\n",
        "# Generate noisy observsation\n",
        "X_train_obs = X_train_missing + sigNoise * maskTraining * np.random.randn(X_train_missing.shape[0],X_train_missing.shape[1],X_train_missing.shape[2])\n",
        "X_test_obs  = X_test_missing  + sigNoise * maskTest * np.random.randn(X_test_missing.shape[0],X_test_missing.shape[1],X_test_missing.shape[2])\n",
        "\n",
        "x_train_obs = (X_train_obs - meanTr) / stdTr\n",
        "x_test_obs  = (X_test_obs - meanTr) / stdTr\n",
        "\n",
        "print('..... Training dataset: %dx%dx%d'%(x_train.shape[0],x_train.shape[1],x_train.shape[2]))\n",
        "print('..... Test dataset    : %dx%dx%d'%(x_test.shape[0],x_test.shape[1],x_test.shape[2]))\n"
      ],
      "execution_count": null,
      "outputs": [
        {
          "output_type": "stream",
          "name": "stdout",
          "text": [
            "..... Observation pattern: Only the first L63 component is osberved\n",
            ".... MeanTr = 8.400 --- StdTr = 13.707 \n",
            "..... Training dataset: 7301x3x200\n",
            "..... Test dataset    : 1801x3x200\n"
          ]
        }
      ]
    },
    {
      "cell_type": "code",
      "metadata": {
        "id": "pZSjh6fTsHRf",
        "colab": {
          "base_uri": "https://localhost:8080/",
          "height": 265
        },
        "outputId": "05b3c0e0-7215-4e14-9ae4-a7b000687fcf"
      },
      "source": [
        "# Visualisation\n",
        "plt.figure(1)\n",
        "for jj in range(0,3):\n",
        "  indjj = 131+jj\n",
        "  plt.subplot(indjj)\n",
        "  plt.plot(X_train[20,jj,:],'b-')\n",
        "  plt.plot(X_train_obs[20,jj,:],'k.')"
      ],
      "execution_count": null,
      "outputs": [
        {
          "output_type": "display_data",
          "data": {
            "image/png": "[encoded data removed]",
            "text/plain": [
              "<Figure size 432x288 with 3 Axes>"
            ]
          },
          "metadata": {
            "needs_background": "light"
          }
        }
      ]
    },
    {
      "cell_type": "code",
      "metadata": {
        "id": "dvwMvw3XAbcf",
        "colab": {
          "base_uri": "https://localhost:8080/",
          "height": 265
        },
        "outputId": "ff81747b-9a27-46fe-aaee-df02552f76ba"
      },
      "source": [
        "# Initial interpolation (linear interpolation or zeros) for missing data\n",
        "\n",
        "import scipy\n",
        "\n",
        "mx_train = np.sum( np.sum( X_train , axis = 2 ) , axis = 0 ) / (X_train.shape[0]*X_train.shape[2])\n",
        "\n",
        "flagInit = 1\n",
        "\n",
        "if flagInit == 0: \n",
        "  X_train_Init = mask_train * X_train_obs + (1. - mask_train) * (np.zeros(X_train_missing.shape) + meanTr)\n",
        "  X_test_Init  = mask_test * X_test_obs + (1. - mask_test) * (np.zeros(X_test_missing.shape) + meanTr)\n",
        "else:\n",
        "  X_train_Init = np.zeros(X_train.shape)\n",
        "  for ii in range(0,X_train.shape[0]):\n",
        "    # Initial linear interpolation for each component\n",
        "    XInit = np.zeros((X_train.shape[1],X_train.shape[2]))\n",
        "\n",
        "    for kk in range(0,3):\n",
        "      indt  = np.where( mask_train[ii,kk,:] == 1.0 )[0]\n",
        "      indt_ = np.where( mask_train[ii,kk,:] == 0.0 )[0]\n",
        "\n",
        "      if len(indt) > 1:\n",
        "        indt_[ np.where( indt_ < np.min(indt)) ] = np.min(indt)\n",
        "        indt_[ np.where( indt_ > np.max(indt)) ] = np.max(indt)\n",
        "        fkk = scipy.interpolate.interp1d(indt, X_train_obs[ii,kk,indt])\n",
        "        XInit[kk,indt]  = X_train_obs[ii,kk,indt]\n",
        "        XInit[kk,indt_] = fkk(indt_)\n",
        "      else:\n",
        "        XInit[kk,:] = XInit[kk,:] + mx_train[kk]\n",
        "\n",
        "    X_train_Init[ii,:,:] = XInit\n",
        "\n",
        "  X_test_Init = np.zeros(X_test.shape)\n",
        "  for ii in range(0,X_test.shape[0]):\n",
        "    # Initial linear interpolation for each component\n",
        "    XInit = np.zeros((X_test.shape[1],X_test.shape[2]))\n",
        "\n",
        "    for kk in range(0,3):\n",
        "      indt  = np.where( mask_test[ii,kk,:] == 1.0 )[0]\n",
        "      indt_ = np.where( mask_test[ii,kk,:] == 0.0 )[0]\n",
        "\n",
        "      if len(indt) > 1:\n",
        "        indt_[ np.where( indt_ < np.min(indt)) ] = np.min(indt)\n",
        "        indt_[ np.where( indt_ > np.max(indt)) ] = np.max(indt)\n",
        "        fkk = scipy.interpolate.interp1d(indt, X_test_obs[ii,kk,indt])\n",
        "        XInit[kk,indt]  = X_test_obs[ii,kk,indt]\n",
        "        XInit[kk,indt_] = fkk(indt_)\n",
        "      else:\n",
        "        XInit[kk,:] = XInit[kk,:] + mx_train[kk]\n",
        "\n",
        "    X_test_Init[ii,:,:] = XInit\n",
        "\n",
        "\n",
        "x_train_Init = ( X_train_Init - meanTr ) / stdTr\n",
        "x_test_Init = ( X_test_Init - meanTr ) / stdTr\n",
        "\n",
        "\n",
        "if 1*1:\n",
        "  plt.figure()\n",
        "  plt.subplot(1,2,1)\n",
        "  plt.plot(X_train_Init[20,0,:],'b-')\n",
        "  plt.plot(X_train[20,0,:],'m-')\n",
        "  #plt.plot(XInit[:,0],'r-')\n",
        "  plt.plot(X_train_obs[20,0,:],'k.')\n",
        "  plt.subplot(1,2,2)\n",
        "  plt.plot(X_test_Init[20,0,:],'b-')\n",
        "  plt.plot(X_test[20,0,:],'m-')\n",
        "  #plt.plot(XInit[:,0],'r-')\n",
        "  plt.plot(X_test_obs[20,0,:],'k.')"
      ],
      "execution_count": null,
      "outputs": [
        {
          "output_type": "display_data",
          "data": {
            "image/png": "[encoded data removed]",
            "text/plain": [
              "<Figure size 432x288 with 2 Axes>"
            ]
          },
          "metadata": {
            "needs_background": "light"
          }
        }
      ]
    },
    {
      "cell_type": "markdown",
      "metadata": {
        "id": "vhKugE5VpyZc"
      },
      "source": [
        "# Explicit Euler ODE scheme in Pytorch\n",
        "\n"
      ]
    },
    {
      "cell_type": "code",
      "metadata": {
        "id": "dJEhltDDu1Nm"
      },
      "source": [
        "# define forward model (Euler)\n",
        "class ODE_L63(torch.nn.Module):\n",
        "    def __init__(self,sigma,rho,beta):\n",
        "        super(ODE_L63, self).__init__()\n",
        "        self.sigma = sigma\n",
        "        self.rho   = rho\n",
        "        self.beta  = beta\n",
        "\n",
        "    def forward(self, x):\n",
        "      x_1 = (self.sigma*(x[:,1]-x[:,0])).view(-1,1)\n",
        "      x_2 = (x[:,0]*(self.rho-x[:,2])-x[:,1]).view(-1,1)\n",
        "      x_3 = (x[:,0]*x[:,1] - self.beta*x[:,2]).view(-1,1)\n",
        "\n",
        "      return torch.cat((x_1,x_2,x_3),dim=1)"
      ],
      "execution_count": null,
      "outputs": []
    },
    {
      "cell_type": "code",
      "metadata": {
        "id": "HhBYtJChPg5s"
      },
      "source": [
        "ii = 100\n",
        "\n",
        "# create torch tensors for observations and hidden states\n",
        "XGT_torch  = torch.Tensor( X_train[ii,:,:].squeeze().transpose() )\n",
        "YObs_torch = torch.Tensor( X_train_obs[ii,:,:].squeeze().transpose() )\n",
        "M_torch    = torch.Tensor( mask_train[ii,:,:].squeeze().transpose() )\n",
        "\n",
        "# Initialisation\n",
        "X_torch    = torch.Tensor( X_train_Init[ii,:,:].squeeze().transpose() )"
      ],
      "execution_count": null,
      "outputs": []
    },
    {
      "cell_type": "code",
      "metadata": {
        "id": "5bAbiiAuymNl",
        "colab": {
          "base_uri": "https://localhost:8080/",
          "height": 283
        },
        "outputId": "9ab7be13-b057-4313-f2b3-74698a582bb2"
      },
      "source": [
        "# check model simulation through an Euler integration scheme\n",
        "ode_L63 = ODE_L63(10.,28.,8./3)\n",
        "\n",
        "x0 = XGT_torch[0,:]\n",
        "dt = 0.01\n",
        "\n",
        "Xsim = []\n",
        "for nn in range(0,100):\n",
        "  if nn == 0:\n",
        "    xt = x0\n",
        "  xnew = xt + dt * ode_L63(xt.view(-1,3))\n",
        "  if nn == 0:\n",
        "    Xsim = xnew\n",
        "  else:\n",
        "    Xsim = torch.cat((Xsim,xnew),axis=0)\n",
        "    xt   = xnew\n",
        "\n",
        "plt.figure()\n",
        "plt.plot(Xsim.cpu().detach().numpy()[:,1],'r-')\n",
        "plt.plot(XGT_torch.cpu().detach().numpy()[0:100,1],'b-')"
      ],
      "execution_count": null,
      "outputs": [
        {
          "output_type": "execute_result",
          "data": {
            "text/plain": [
              "[<matplotlib.lines.Line2D at 0x7fd07cd3ad10>]"
            ]
          },
          "metadata": {},
          "execution_count": 27
        },
        {
          "output_type": "display_data",
          "data": {
            "image/png": "[encoded data removed]",
            "text/plain": [
              "<Figure size 432x288 with 1 Axes>"
            ]
          },
          "metadata": {
            "needs_background": "light"
          }
        }
      ]
    },
    {
      "cell_type": "markdown",
      "metadata": {
        "id": "8y3Ajptyk0rT"
      },
      "source": [
        "# (Weak-constrained) 4DVar DA  Pytorch "
      ]
    },
    {
      "cell_type": "code",
      "metadata": {
        "id": "yXaEHBbg0lUb",
        "colab": {
          "base_uri": "https://localhost:8080/"
        },
        "outputId": "63acb221-e53d-4670-a212-f91531cb2f5b"
      },
      "source": [
        "# 4DVAR assimilation\n",
        "device  = torch.device(\"cuda\" if torch.cuda.is_available() else \"cpu\")\n",
        "\n",
        "# assignment to GPU\n",
        "ode_L63 = ODE_L63(10.,28.,8./3)\n",
        "ode_L63 = ode_L63.to(device)\n",
        "\n",
        "# assimilation loop\n",
        "t0    = 0\n",
        "dt    = 0.01\n",
        "dT    = X_torch.size(0)\n",
        "NIter = 20000\n",
        "alpha = 0.99\n",
        "delta = 0.2\n",
        "\n",
        "X_torch = torch.autograd.Variable(X_torch, requires_grad=True)\n",
        "\n",
        "for iter in range(0,NIter):\n",
        "\n",
        "  # compute losses\n",
        "  with torch.set_grad_enabled(True): \n",
        "    # dynamical loss\n",
        "    x_pred   = X_torch[t0:t0+dT-1,:] + dt * ode_L63(X_torch[t0:t0+dT-1,:])\n",
        "    loss_dyn = torch.sum((X_torch[t0+1:t0+dT,:] - x_pred)**2 )\n",
        "\n",
        "    # observation loss\n",
        "    loss_obs = torch.sum((X_torch - YObs_torch)**2 * M_torch )\n",
        "\n",
        "    # overall loss\n",
        "    loss = (1.-alpha) * loss_obs + alpha * loss_dyn \n",
        "  \n",
        "    # To be filled in\n",
        "    # gradient-based update \n",
        "    # X_torch = X_torch - delta * grad\n",
        "    # Two options using backward() method for a loss\n",
        "    # or using torch.autograd.grad\n",
        "    \n",
        "    if( np.mod(iter,100) == 0 ):\n",
        "      print(\".... iter %d: loss %.3f dyn_loss %.3f obs_loss %.3f\"%(iter,loss,loss_dyn,loss_obs))  \n",
        "\n",
        "    X_torch = torch.autograd.Variable(X_torch, requires_grad=True)\n"
      ],
      "execution_count": null,
      "outputs": [
        {
          "output_type": "stream",
          "name": "stdout",
          "text": [
            ".... iter 0: loss 264.811 dyn_loss 267.486 obs_loss 0.000\n",
            ".... iter 100: loss 70.805 dyn_loss 69.745 obs_loss 175.781\n",
            ".... iter 200: loss 50.174 dyn_loss 48.279 obs_loss 237.787\n",
            ".... iter 300: loss 41.127 dyn_loss 39.186 obs_loss 233.241\n",
            ".... iter 400: loss 34.348 dyn_loss 32.553 obs_loss 212.042\n",
            ".... iter 500: loss 28.748 dyn_loss 27.110 obs_loss 190.899\n",
            ".... iter 600: loss 24.045 dyn_loss 22.533 obs_loss 173.794\n",
            ".... iter 700: loss 20.090 dyn_loss 18.667 obs_loss 161.027\n",
            ".... iter 800: loss 16.799 dyn_loss 15.434 obs_loss 151.940\n",
            ".... iter 900: loss 14.117 dyn_loss 12.789 obs_loss 145.650\n",
            ".... iter 1000: loss 11.985 dyn_loss 10.679 obs_loss 141.290\n",
            ".... iter 1100: loss 10.328 dyn_loss 9.037 obs_loss 138.121\n",
            ".... iter 1200: loss 9.061 dyn_loss 7.782 obs_loss 135.596\n",
            ".... iter 1300: loss 8.099 dyn_loss 6.834 obs_loss 133.355\n",
            ".... iter 1400: loss 7.368 dyn_loss 6.117 obs_loss 131.194\n",
            ".... iter 1500: loss 6.805 dyn_loss 5.571 obs_loss 129.010\n",
            ".... iter 1600: loss 6.364 dyn_loss 5.148 obs_loss 126.767\n",
            ".... iter 1700: loss 6.010 dyn_loss 4.814 obs_loss 124.461\n",
            ".... iter 1800: loss 5.718 dyn_loss 4.542 obs_loss 122.105\n",
            ".... iter 1900: loss 5.470 dyn_loss 4.316 obs_loss 119.716\n",
            ".... iter 2000: loss 5.255 dyn_loss 4.123 obs_loss 117.313\n",
            ".... iter 2100: loss 5.062 dyn_loss 3.953 obs_loss 114.913\n",
            ".... iter 2200: loss 4.888 dyn_loss 3.800 obs_loss 112.531\n",
            ".... iter 2300: loss 4.727 dyn_loss 3.662 obs_loss 110.179\n",
            ".... iter 2400: loss 4.576 dyn_loss 3.533 obs_loss 107.867\n",
            ".... iter 2500: loss 4.435 dyn_loss 3.413 obs_loss 105.603\n",
            ".... iter 2600: loss 4.301 dyn_loss 3.300 obs_loss 103.392\n",
            ".... iter 2700: loss 4.173 dyn_loss 3.193 obs_loss 101.240\n",
            ".... iter 2800: loss 4.052 dyn_loss 3.091 obs_loss 99.150\n",
            ".... iter 2900: loss 3.935 dyn_loss 2.994 obs_loss 97.124\n",
            ".... iter 3000: loss 3.823 dyn_loss 2.901 obs_loss 95.163\n",
            ".... iter 3100: loss 3.716 dyn_loss 2.812 obs_loss 93.269\n",
            ".... iter 3200: loss 3.613 dyn_loss 2.726 obs_loss 91.440\n",
            ".... iter 3300: loss 3.515 dyn_loss 2.644 obs_loss 89.676\n",
            ".... iter 3400: loss 3.420 dyn_loss 2.566 obs_loss 87.978\n",
            ".... iter 3500: loss 3.329 dyn_loss 2.490 obs_loss 86.342\n",
            ".... iter 3600: loss 3.241 dyn_loss 2.418 obs_loss 84.768\n",
            ".... iter 3700: loss 3.157 dyn_loss 2.348 obs_loss 83.255\n",
            ".... iter 3800: loss 3.076 dyn_loss 2.281 obs_loss 81.799\n",
            ".... iter 3900: loss 2.999 dyn_loss 2.217 obs_loss 80.400\n",
            ".... iter 4000: loss 2.924 dyn_loss 2.155 obs_loss 79.055\n",
            ".... iter 4100: loss 2.853 dyn_loss 2.096 obs_loss 77.762\n",
            ".... iter 4200: loss 2.784 dyn_loss 2.039 obs_loss 76.520\n",
            ".... iter 4300: loss 2.718 dyn_loss 1.984 obs_loss 75.325\n",
            ".... iter 4400: loss 2.654 dyn_loss 1.932 obs_loss 74.177\n",
            ".... iter 4500: loss 2.593 dyn_loss 1.881 obs_loss 73.072\n",
            ".... iter 4600: loss 2.535 dyn_loss 1.833 obs_loss 72.010\n",
            ".... iter 4700: loss 2.478 dyn_loss 1.786 obs_loss 70.987\n",
            ".... iter 4800: loss 2.424 dyn_loss 1.742 obs_loss 70.003\n",
            ".... iter 4900: loss 2.372 dyn_loss 1.699 obs_loss 69.055\n",
            ".... iter 5000: loss 2.322 dyn_loss 1.657 obs_loss 68.142\n",
            ".... iter 5100: loss 2.274 dyn_loss 1.618 obs_loss 67.262\n",
            ".... iter 5200: loss 2.228 dyn_loss 1.579 obs_loss 66.413\n",
            ".... iter 5300: loss 2.183 dyn_loss 1.543 obs_loss 65.595\n",
            ".... iter 5400: loss 2.140 dyn_loss 1.507 obs_loss 64.804\n",
            ".... iter 5500: loss 2.099 dyn_loss 1.473 obs_loss 64.041\n",
            ".... iter 5600: loss 2.059 dyn_loss 1.440 obs_loss 63.304\n",
            ".... iter 5700: loss 2.021 dyn_loss 1.409 obs_loss 62.591\n",
            ".... iter 5800: loss 1.983 dyn_loss 1.378 obs_loss 61.901\n",
            ".... iter 5900: loss 1.948 dyn_loss 1.349 obs_loss 61.234\n",
            ".... iter 6000: loss 1.913 dyn_loss 1.320 obs_loss 60.587\n",
            ".... iter 6100: loss 1.880 dyn_loss 1.293 obs_loss 59.961\n",
            ".... iter 6200: loss 1.847 dyn_loss 1.267 obs_loss 59.354\n",
            ".... iter 6300: loss 1.816 dyn_loss 1.241 obs_loss 58.765\n",
            ".... iter 6400: loss 1.786 dyn_loss 1.216 obs_loss 58.194\n",
            ".... iter 6500: loss 1.757 dyn_loss 1.192 obs_loss 57.639\n",
            ".... iter 6600: loss 1.728 dyn_loss 1.169 obs_loss 57.100\n",
            ".... iter 6700: loss 1.701 dyn_loss 1.147 obs_loss 56.576\n",
            ".... iter 6800: loss 1.674 dyn_loss 1.125 obs_loss 56.067\n",
            ".... iter 6900: loss 1.649 dyn_loss 1.104 obs_loss 55.571\n",
            ".... iter 7000: loss 1.624 dyn_loss 1.083 obs_loss 55.089\n",
            ".... iter 7100: loss 1.599 dyn_loss 1.064 obs_loss 54.619\n",
            ".... iter 7200: loss 1.576 dyn_loss 1.044 obs_loss 54.162\n",
            ".... iter 7300: loss 1.553 dyn_loss 1.026 obs_loss 53.715\n",
            ".... iter 7400: loss 1.530 dyn_loss 1.008 obs_loss 53.281\n",
            ".... iter 7500: loss 1.509 dyn_loss 0.990 obs_loss 52.856\n",
            ".... iter 7600: loss 1.487 dyn_loss 0.973 obs_loss 52.442\n",
            ".... iter 7700: loss 1.467 dyn_loss 0.956 obs_loss 52.038\n",
            ".... iter 7800: loss 1.447 dyn_loss 0.940 obs_loss 51.643\n",
            ".... iter 7900: loss 1.427 dyn_loss 0.924 obs_loss 51.258\n",
            ".... iter 8000: loss 1.408 dyn_loss 0.908 obs_loss 50.881\n",
            ".... iter 8100: loss 1.389 dyn_loss 0.893 obs_loss 50.513\n",
            ".... iter 8200: loss 1.371 dyn_loss 0.879 obs_loss 50.152\n",
            ".... iter 8300: loss 1.354 dyn_loss 0.864 obs_loss 49.800\n",
            ".... iter 8400: loss 1.336 dyn_loss 0.850 obs_loss 49.455\n",
            ".... iter 8500: loss 1.319 dyn_loss 0.837 obs_loss 49.117\n",
            ".... iter 8600: loss 1.303 dyn_loss 0.823 obs_loss 48.787\n",
            ".... iter 8700: loss 1.287 dyn_loss 0.810 obs_loss 48.463\n",
            ".... iter 8800: loss 1.271 dyn_loss 0.797 obs_loss 48.146\n",
            ".... iter 8900: loss 1.255 dyn_loss 0.785 obs_loss 47.835\n",
            ".... iter 9000: loss 1.240 dyn_loss 0.773 obs_loss 47.531\n",
            ".... iter 9100: loss 1.225 dyn_loss 0.761 obs_loss 47.232\n",
            ".... iter 9200: loss 1.211 dyn_loss 0.749 obs_loss 46.939\n",
            ".... iter 9300: loss 1.197 dyn_loss 0.738 obs_loss 46.652\n",
            ".... iter 9400: loss 1.183 dyn_loss 0.726 obs_loss 46.371\n",
            ".... iter 9500: loss 1.169 dyn_loss 0.715 obs_loss 46.094\n",
            ".... iter 9600: loss 1.156 dyn_loss 0.705 obs_loss 45.823\n",
            ".... iter 9700: loss 1.143 dyn_loss 0.694 obs_loss 45.557\n",
            ".... iter 9800: loss 1.130 dyn_loss 0.684 obs_loss 45.295\n",
            ".... iter 9900: loss 1.117 dyn_loss 0.674 obs_loss 45.039\n",
            ".... iter 10000: loss 1.105 dyn_loss 0.664 obs_loss 44.786\n",
            ".... iter 10100: loss 1.093 dyn_loss 0.654 obs_loss 44.539\n",
            ".... iter 10200: loss 1.081 dyn_loss 0.644 obs_loss 44.295\n",
            ".... iter 10300: loss 1.069 dyn_loss 0.635 obs_loss 44.056\n",
            ".... iter 10400: loss 1.058 dyn_loss 0.626 obs_loss 43.821\n",
            ".... iter 10500: loss 1.047 dyn_loss 0.617 obs_loss 43.590\n",
            ".... iter 10600: loss 1.036 dyn_loss 0.608 obs_loss 43.363\n",
            ".... iter 10700: loss 1.025 dyn_loss 0.599 obs_loss 43.140\n",
            ".... iter 10800: loss 1.014 dyn_loss 0.591 obs_loss 42.920\n",
            ".... iter 10900: loss 1.004 dyn_loss 0.583 obs_loss 42.704\n",
            ".... iter 11000: loss 0.994 dyn_loss 0.574 obs_loss 42.491\n",
            ".... iter 11100: loss 0.983 dyn_loss 0.566 obs_loss 42.282\n",
            ".... iter 11200: loss 0.974 dyn_loss 0.558 obs_loss 42.076\n",
            ".... iter 11300: loss 0.964 dyn_loss 0.551 obs_loss 41.874\n",
            ".... iter 11400: loss 0.954 dyn_loss 0.543 obs_loss 41.675\n",
            ".... iter 11500: loss 0.945 dyn_loss 0.536 obs_loss 41.478\n",
            ".... iter 11600: loss 0.936 dyn_loss 0.528 obs_loss 41.285\n",
            ".... iter 11700: loss 0.927 dyn_loss 0.521 obs_loss 41.095\n",
            ".... iter 11800: loss 0.918 dyn_loss 0.514 obs_loss 40.908\n",
            ".... iter 11900: loss 0.909 dyn_loss 0.507 obs_loss 40.723\n",
            ".... iter 12000: loss 0.900 dyn_loss 0.500 obs_loss 40.541\n",
            ".... iter 12100: loss 0.892 dyn_loss 0.493 obs_loss 40.362\n",
            ".... iter 12200: loss 0.884 dyn_loss 0.487 obs_loss 40.186\n",
            ".... iter 12300: loss 0.875 dyn_loss 0.480 obs_loss 40.012\n",
            ".... iter 12400: loss 0.867 dyn_loss 0.474 obs_loss 39.841\n",
            ".... iter 12500: loss 0.859 dyn_loss 0.467 obs_loss 39.672\n",
            ".... iter 12600: loss 0.852 dyn_loss 0.461 obs_loss 39.506\n",
            ".... iter 12700: loss 0.844 dyn_loss 0.455 obs_loss 39.341\n",
            ".... iter 12800: loss 0.837 dyn_loss 0.449 obs_loss 39.180\n",
            ".... iter 12900: loss 0.829 dyn_loss 0.443 obs_loss 39.020\n",
            ".... iter 13000: loss 0.822 dyn_loss 0.438 obs_loss 38.863\n",
            ".... iter 13100: loss 0.815 dyn_loss 0.432 obs_loss 38.708\n",
            ".... iter 13200: loss 0.808 dyn_loss 0.426 obs_loss 38.555\n",
            ".... iter 13300: loss 0.801 dyn_loss 0.421 obs_loss 38.404\n",
            ".... iter 13400: loss 0.794 dyn_loss 0.415 obs_loss 38.255\n",
            ".... iter 13500: loss 0.787 dyn_loss 0.410 obs_loss 38.108\n",
            ".... iter 13600: loss 0.780 dyn_loss 0.405 obs_loss 37.963\n",
            ".... iter 13700: loss 0.774 dyn_loss 0.400 obs_loss 37.820\n",
            ".... iter 13800: loss 0.768 dyn_loss 0.395 obs_loss 37.679\n",
            ".... iter 13900: loss 0.761 dyn_loss 0.390 obs_loss 37.540\n",
            ".... iter 14000: loss 0.755 dyn_loss 0.385 obs_loss 37.402\n",
            ".... iter 14100: loss 0.749 dyn_loss 0.380 obs_loss 37.266\n",
            ".... iter 14200: loss 0.743 dyn_loss 0.375 obs_loss 37.132\n",
            ".... iter 14300: loss 0.737 dyn_loss 0.371 obs_loss 37.000\n",
            ".... iter 14400: loss 0.731 dyn_loss 0.366 obs_loss 36.869\n",
            ".... iter 14500: loss 0.725 dyn_loss 0.362 obs_loss 36.740\n",
            ".... iter 14600: loss 0.720 dyn_loss 0.357 obs_loss 36.613\n",
            ".... iter 14700: loss 0.714 dyn_loss 0.353 obs_loss 36.487\n",
            ".... iter 14800: loss 0.709 dyn_loss 0.349 obs_loss 36.362\n",
            ".... iter 14900: loss 0.703 dyn_loss 0.344 obs_loss 36.239\n",
            ".... iter 15000: loss 0.698 dyn_loss 0.340 obs_loss 36.118\n",
            ".... iter 15100: loss 0.693 dyn_loss 0.336 obs_loss 35.998\n",
            ".... iter 15200: loss 0.688 dyn_loss 0.332 obs_loss 35.880\n",
            ".... iter 15300: loss 0.682 dyn_loss 0.328 obs_loss 35.762\n",
            ".... iter 15400: loss 0.677 dyn_loss 0.324 obs_loss 35.647\n",
            ".... iter 15500: loss 0.673 dyn_loss 0.320 obs_loss 35.532\n",
            ".... iter 15600: loss 0.668 dyn_loss 0.317 obs_loss 35.419\n",
            ".... iter 15700: loss 0.663 dyn_loss 0.313 obs_loss 35.308\n",
            ".... iter 15800: loss 0.658 dyn_loss 0.309 obs_loss 35.197\n",
            ".... iter 15900: loss 0.654 dyn_loss 0.306 obs_loss 35.088\n",
            ".... iter 16000: loss 0.649 dyn_loss 0.302 obs_loss 34.980\n",
            ".... iter 16100: loss 0.644 dyn_loss 0.299 obs_loss 34.873\n",
            ".... iter 16200: loss 0.640 dyn_loss 0.295 obs_loss 34.768\n",
            ".... iter 16300: loss 0.636 dyn_loss 0.292 obs_loss 34.663\n",
            ".... iter 16400: loss 0.631 dyn_loss 0.289 obs_loss 34.560\n",
            ".... iter 16500: loss 0.627 dyn_loss 0.285 obs_loss 34.458\n",
            ".... iter 16600: loss 0.623 dyn_loss 0.282 obs_loss 34.357\n",
            ".... iter 16700: loss 0.619 dyn_loss 0.279 obs_loss 34.257\n",
            ".... iter 16800: loss 0.615 dyn_loss 0.276 obs_loss 34.158\n",
            ".... iter 16900: loss 0.611 dyn_loss 0.273 obs_loss 34.061\n",
            ".... iter 17000: loss 0.607 dyn_loss 0.270 obs_loss 33.964\n",
            ".... iter 17100: loss 0.603 dyn_loss 0.267 obs_loss 33.868\n",
            ".... iter 17200: loss 0.599 dyn_loss 0.264 obs_loss 33.774\n",
            ".... iter 17300: loss 0.595 dyn_loss 0.261 obs_loss 33.680\n",
            ".... iter 17400: loss 0.591 dyn_loss 0.258 obs_loss 33.587\n",
            ".... iter 17500: loss 0.588 dyn_loss 0.255 obs_loss 33.496\n",
            ".... iter 17600: loss 0.584 dyn_loss 0.253 obs_loss 33.405\n",
            ".... iter 17700: loss 0.581 dyn_loss 0.250 obs_loss 33.315\n",
            ".... iter 17800: loss 0.577 dyn_loss 0.247 obs_loss 33.226\n",
            ".... iter 17900: loss 0.574 dyn_loss 0.245 obs_loss 33.138\n",
            ".... iter 18000: loss 0.570 dyn_loss 0.242 obs_loss 33.051\n",
            ".... iter 18100: loss 0.567 dyn_loss 0.240 obs_loss 32.965\n",
            ".... iter 18200: loss 0.563 dyn_loss 0.237 obs_loss 32.880\n",
            ".... iter 18300: loss 0.560 dyn_loss 0.235 obs_loss 32.796\n",
            ".... iter 18400: loss 0.557 dyn_loss 0.232 obs_loss 32.712\n",
            ".... iter 18500: loss 0.554 dyn_loss 0.230 obs_loss 32.630\n",
            ".... iter 18600: loss 0.551 dyn_loss 0.227 obs_loss 32.548\n",
            ".... iter 18700: loss 0.547 dyn_loss 0.225 obs_loss 32.467\n",
            ".... iter 18800: loss 0.544 dyn_loss 0.223 obs_loss 32.386\n",
            ".... iter 18900: loss 0.541 dyn_loss 0.221 obs_loss 32.307\n",
            ".... iter 19000: loss 0.538 dyn_loss 0.218 obs_loss 32.228\n",
            ".... iter 19100: loss 0.535 dyn_loss 0.216 obs_loss 32.150\n",
            ".... iter 19200: loss 0.533 dyn_loss 0.214 obs_loss 32.073\n",
            ".... iter 19300: loss 0.530 dyn_loss 0.212 obs_loss 31.997\n",
            ".... iter 19400: loss 0.527 dyn_loss 0.210 obs_loss 31.921\n",
            ".... iter 19500: loss 0.524 dyn_loss 0.208 obs_loss 31.847\n",
            ".... iter 19600: loss 0.521 dyn_loss 0.206 obs_loss 31.772\n",
            ".... iter 19700: loss 0.519 dyn_loss 0.204 obs_loss 31.699\n",
            ".... iter 19800: loss 0.516 dyn_loss 0.202 obs_loss 31.626\n",
            ".... iter 19900: loss 0.513 dyn_loss 0.200 obs_loss 31.554\n"
          ]
        }
      ]
    },
    {
      "cell_type": "code",
      "metadata": {
        "id": "7QRqLNqPXqu6",
        "colab": {
          "base_uri": "https://localhost:8080/",
          "height": 335
        },
        "outputId": "13b44436-7e2a-4484-f058-ceaf12c64faa"
      },
      "source": [
        "XGT  = XGT_torch.cpu().detach().numpy()[t0:t0+dT,:]\n",
        "XHat = X_torch.cpu().detach().numpy()[t0:t0+dT,:]\n",
        "M    = M_torch.cpu().detach().numpy()[t0:t0+dT,:]\n",
        "YObs = YObs_torch.cpu().detach().numpy()[t0:t0+dT,:]\n",
        "\n",
        "## visualization\n",
        "plt.figure()\n",
        "for kk in range(0,3):\n",
        "  plt.subplot(1,3,kk+1)\n",
        "  plt.plot(YObs[t0:t0+dT,kk],'r.')\n",
        "  plt.plot(XGT[:,kk],'b-')\n",
        "  plt.plot(XHat[:,kk],'m-')\n",
        "\n",
        "# Reconstruction performance\n",
        "varXGT  = np.mean( (XGT - np.mean(XGT,axis=0))**2 )\n",
        "mse_All = np.mean( (XHat-XGT) **2 ) \n",
        "mse_I   = np.mean( (1.-M[t0:t0+dT,:]) * (XHat-XGT) **2 ) / np.mean( (1.-M[t0:t0+dT,:]) )\n",
        "mse_R   = np.mean( M[t0:t0+dT,:] * (XHat-XGT) **2 ) / np.mean( M[t0:t0+dT,:] )\n",
        "\n",
        "nmse_All = mse_All / varXGT\n",
        "nmse_I   = mse_I / varXGT\n",
        "nmse_R   = mse_R / varXGT\n",
        "\n",
        "print(\"..... Assimilation performance\")\n",
        "print(\".. MSE ALL.   : %.3f / %.3f\"%(mse_All,nmse_All))\n",
        "print(\".. MSE ObsData: %.3f / %.3f\"%(mse_R,nmse_R))\n",
        "print(\".. MSE Interp : %.3f / %.3f\"%(mse_I,nmse_I))\n"
      ],
      "execution_count": null,
      "outputs": [
        {
          "output_type": "stream",
          "name": "stdout",
          "text": [
            "..... Assimilation performance\n",
            ".. MSE ALL.   : 3.100 / 0.041\n",
            ".. MSE ObsData: 0.841 / 0.011\n",
            ".. MSE Interp : 3.186 / 0.042\n"
          ]
        },
        {
          "output_type": "display_data",
          "data": {
            "image/png": "[encoded data removed]",
            "text/plain": [
              "<Figure size 432x288 with 3 Axes>"
            ]
          },
          "metadata": {
            "needs_background": "light"
          }
        }
      ]
    },
    {
      "cell_type": "markdown",
      "metadata": {
        "id": "fdq0wK2_lRHo"
      },
      "source": [
        "# Model-based inversion using a trainable plug-and-play prior"
      ]
    },
    {
      "cell_type": "code",
      "metadata": {
        "id": "5eeQsAFfmU9g"
      },
      "source": [
        "DimAE = 50"
      ],
      "execution_count": null,
      "outputs": []
    },
    {
      "cell_type": "code",
      "metadata": {
        "colab": {
          "base_uri": "https://localhost:8080/"
        },
        "id": "7nOFkoBcqVTU",
        "outputId": "779f365f-ea34-4d36-f4ee-891ff48eda04"
      },
      "source": [
        "X_train.shape"
      ],
      "execution_count": null,
      "outputs": [
        {
          "output_type": "execute_result",
          "data": {
            "text/plain": [
              "(5000, 3, 200)"
            ]
          },
          "metadata": {},
          "execution_count": 46
        }
      ]
    },
    {
      "cell_type": "code",
      "metadata": {
        "id": "VQ-RaZMAlZ35",
        "colab": {
          "base_uri": "https://localhost:8080/"
        },
        "outputId": "e2c8493d-bfcd-48df-e2c4-a5012424390d"
      },
      "source": [
        "# Training a simple auto-encoder\n",
        "# PCA decomposition\n",
        "pca              = decomposition.PCA(DimAE)\n",
        "pca.fit(np.reshape(X_train,(x_train.shape[0],X_train.shape[1]*X_train.shape[2])))\n",
        "\n",
        "rec_PCA_Tt       = pca.transform(np.reshape(X_test,(X_test.shape[0],X_test.shape[1]*X_test.shape[2])))\n",
        "rec_PCA_Tt[:,DimAE:] = 0.\n",
        "rec_PCA_Tt       = pca.inverse_transform(rec_PCA_Tt)\n",
        "mse_PCA_Tt       = np.mean( (rec_PCA_Tt - X_test.reshape((x_test.shape[0],X_test.shape[1]*X_test.shape[2])))**2 )\n",
        "var_Tt           = np.mean( (X_test-np.mean(X_train,axis=0))** 2 )\n",
        "exp_var_PCA_Tt   = 1. - mse_PCA_Tt / var_Tt\n",
        "\n",
        "print(\".......... PCA Dim = %d\"%(DimAE))\n",
        "print('.... explained variance PCA (Tr) : %.2f%%'%(100.*np.cumsum(pca.explained_variance_ratio_)[DimAE-1]))\n",
        "print('.... explained variance PCA (Tt) : %.2f%%'%(100.*exp_var_PCA_Tt))\n",
        "\n",
        "shapeData = x_train.shape[1:]\n",
        "\n",
        "class Encoder(torch.nn.Module):\n",
        "    def __init__(self):\n",
        "        super(Encoder, self).__init__()\n",
        "        self.fc1 = torch.nn.Linear(shapeData[0]*shapeData[1],DimAE,bias=False)\n",
        "        self.fc1.weight = torch.nn.Parameter( torch.Tensor( pca.components_[0:DimAE,:] ))\n",
        "        self.mean_ = torch.nn.Parameter( torch.Tensor( pca.mean_ ) )\n",
        "        \n",
        "    def forward(self, x):\n",
        "        x = self.fc1( x.view(-1,shapeData[0]*shapeData[1]) - self.mean_ )\n",
        "        return x\n",
        "  \n",
        "class Decoder(torch.nn.Module):\n",
        "    def __init__(self):\n",
        "        super(Decoder, self).__init__()\n",
        "        self.fc1 = torch.nn.Linear(DimAE,shapeData[0]*shapeData[1],bias=False)\n",
        "        self.fc1.weight = torch.nn.Parameter( torch.Tensor( pcs_.transpose() ) )\n",
        "        self.mean_ = torch.nn.Parameter( torch.Tensor( pca.mean_ ) )\n",
        "    def forward(self, x):\n",
        "        x = self.fc1( x ) + self.mean_\n",
        "        x = x.view(-1,shapeData[0],shapeData[1])\n",
        "        return x\n",
        "\n",
        "class Model_AE(torch.nn.Module):\n",
        "    def __init__(self):\n",
        "        super(Model_AE, self).__init__()\n",
        "        self.encoder = Encoder()\n",
        "        self.decoder = Decoder()\n",
        "\n",
        "    def forward(self, x):\n",
        "        x = self.encoder( x )\n",
        "        x = self.decoder( x )\n",
        "        return x\n",
        "\n",
        "model_AE           = Model_AE()\n",
        "print(model_AE)"
      ],
      "execution_count": null,
      "outputs": [
        {
          "output_type": "stream",
          "name": "stdout",
          "text": [
            ".......... PCA Dim = 50\n",
            ".... explained variance PCA (Tr) : 99.99%\n",
            ".... explained variance PCA (Tt) : 99.99%\n",
            "Model_AE(\n",
            "  (encoder): Encoder(\n",
            "    (fc1): Linear(in_features=600, out_features=50, bias=False)\n",
            "  )\n",
            "  (decoder): Decoder(\n",
            "    (fc1): Linear(in_features=50, out_features=600, bias=False)\n",
            "  )\n",
            ")\n"
          ]
        }
      ]
    },
    {
      "cell_type": "code",
      "metadata": {
        "id": "fQUMHMlHtsSM"
      },
      "source": [
        "ii = 100\n",
        "\n",
        "# create torch tensors for observations and hidden states\n",
        "XGT_torch  = torch.Tensor( X_train[ii,:,:].squeeze() )\n",
        "YObs_torch = torch.Tensor( X_train_obs[ii,:,:].squeeze() )\n",
        "M_torch    = torch.Tensor( mask_train[ii,:,:].squeeze() )\n",
        "\n",
        "# Initialisation\n",
        "X_torch    = torch.Tensor( X_train_Init[ii,:,:].squeeze() )"
      ],
      "execution_count": null,
      "outputs": []
    },
    {
      "cell_type": "code",
      "metadata": {
        "id": "M5MIeSPJt5mX"
      },
      "source": [
        "dT = 200"
      ],
      "execution_count": null,
      "outputs": []
    },
    {
      "cell_type": "code",
      "metadata": {
        "colab": {
          "base_uri": "https://localhost:8080/"
        },
        "id": "wOqdp12XpOhd",
        "outputId": "b0aaf7bb-64ad-4b42-e9e5-ed11056ee203"
      },
      "source": [
        "# 4DVAR assimilation\n",
        "device  = torch.device(\"cuda\" if torch.cuda.is_available() else \"cpu\")\n",
        "\n",
        "# assignment to GPU\n",
        "model_AE = model_AE.to(device)\n",
        "\n",
        "# assimilation loop\n",
        "t0    = 0\n",
        "NIter = 20000\n",
        "alpha = 0.99\n",
        "delta = 0.2\n",
        "\n",
        "X_torch = torch.autograd.Variable(X_torch, requires_grad=True)\n",
        "X_torch = X_torch.to(device)\n",
        "XGT_torch  = XGT_torch.to(device)\n",
        "YObs_torch  = YObs_torch.to(device)\n",
        "M_torch  = M_torch.to(device)\n",
        "\n",
        "for iter in range(0,NIter):\n",
        "\n",
        "  # compute losses\n",
        "  with torch.set_grad_enabled(True): \n",
        "    # dynamical loss\n",
        "    # to be filled in\n",
        "    # Compute term ||x-Phi(x)||^2 with Phi given by the PCA\n",
        "\n",
        "    # observation loss\n",
        "    loss_obs = torch.sum((X_torch - YObs_torch)**2 * M_torch )\n",
        "\n",
        "    # overall loss\n",
        "    loss = (1.-alpha) * loss_obs + alpha * loss_dyn \n",
        "\n",
        "    if( np.mod(iter,100) == 0 ):\n",
        "      print(\".... iter %d: loss %.3f dyn_loss %.3f obs_loss %.3f\"%(iter,loss,loss_dyn,loss_obs))  \n",
        "\n",
        "    # compute gradient w.r.t. X and update X\n",
        "    loss.backward()\n",
        "    #grad_X  = torch.autograd.grad(loss,X_torch,create_graph=True)\n",
        "    X_torch = X_torch - delta * X_torch.grad.data\n",
        "    X_torch = torch.autograd.Variable(X_torch, requires_grad=True)"
      ],
      "execution_count": null,
      "outputs": [
        {
          "output_type": "stream",
          "name": "stdout",
          "text": [
            ".... iter 0: loss 3.868 dyn_loss 0.039 obs_loss 382.935\n",
            ".... iter 100: loss 3.867 dyn_loss 0.039 obs_loss 382.866\n",
            ".... iter 200: loss 3.867 dyn_loss 0.039 obs_loss 382.800\n",
            ".... iter 300: loss 3.866 dyn_loss 0.039 obs_loss 382.735\n",
            ".... iter 400: loss 3.865 dyn_loss 0.039 obs_loss 382.672\n",
            ".... iter 500: loss 3.865 dyn_loss 0.039 obs_loss 382.611\n",
            ".... iter 600: loss 3.864 dyn_loss 0.039 obs_loss 382.551\n",
            ".... iter 700: loss 3.864 dyn_loss 0.039 obs_loss 382.493\n",
            ".... iter 800: loss 3.863 dyn_loss 0.039 obs_loss 382.437\n",
            ".... iter 900: loss 3.862 dyn_loss 0.039 obs_loss 382.382\n",
            ".... iter 1000: loss 3.862 dyn_loss 0.039 obs_loss 382.328\n",
            ".... iter 1100: loss 3.861 dyn_loss 0.039 obs_loss 382.277\n",
            ".... iter 1200: loss 3.861 dyn_loss 0.039 obs_loss 382.226\n",
            ".... iter 1300: loss 3.860 dyn_loss 0.039 obs_loss 382.177\n",
            ".... iter 1400: loss 3.860 dyn_loss 0.039 obs_loss 382.129\n",
            ".... iter 1500: loss 3.859 dyn_loss 0.039 obs_loss 382.083\n",
            ".... iter 1600: loss 3.859 dyn_loss 0.039 obs_loss 382.038\n",
            ".... iter 1700: loss 3.859 dyn_loss 0.039 obs_loss 381.994\n",
            ".... iter 1800: loss 3.858 dyn_loss 0.039 obs_loss 381.951\n",
            ".... iter 1900: loss 3.858 dyn_loss 0.039 obs_loss 381.909\n",
            ".... iter 2000: loss 3.857 dyn_loss 0.039 obs_loss 381.869\n",
            ".... iter 2100: loss 3.857 dyn_loss 0.039 obs_loss 381.829\n",
            ".... iter 2200: loss 3.856 dyn_loss 0.039 obs_loss 381.791\n",
            ".... iter 2300: loss 3.856 dyn_loss 0.039 obs_loss 381.753\n",
            ".... iter 2400: loss 3.856 dyn_loss 0.039 obs_loss 381.717\n",
            ".... iter 2500: loss 3.855 dyn_loss 0.039 obs_loss 381.681\n",
            ".... iter 2600: loss 3.855 dyn_loss 0.039 obs_loss 381.647\n",
            ".... iter 2700: loss 3.855 dyn_loss 0.039 obs_loss 381.613\n",
            ".... iter 2800: loss 3.854 dyn_loss 0.039 obs_loss 381.580\n",
            ".... iter 2900: loss 3.854 dyn_loss 0.039 obs_loss 381.549\n",
            ".... iter 3000: loss 3.854 dyn_loss 0.039 obs_loss 381.517\n",
            ".... iter 3100: loss 3.853 dyn_loss 0.039 obs_loss 381.487\n",
            ".... iter 3200: loss 3.853 dyn_loss 0.039 obs_loss 381.458\n",
            ".... iter 3300: loss 3.853 dyn_loss 0.039 obs_loss 381.429\n",
            ".... iter 3400: loss 3.853 dyn_loss 0.039 obs_loss 381.401\n",
            ".... iter 3500: loss 3.852 dyn_loss 0.039 obs_loss 381.374\n",
            ".... iter 3600: loss 3.852 dyn_loss 0.039 obs_loss 381.347\n",
            ".... iter 3700: loss 3.852 dyn_loss 0.039 obs_loss 381.321\n",
            ".... iter 3800: loss 3.851 dyn_loss 0.039 obs_loss 381.296\n",
            ".... iter 3900: loss 3.851 dyn_loss 0.039 obs_loss 381.272\n",
            ".... iter 4000: loss 3.851 dyn_loss 0.039 obs_loss 381.248\n",
            ".... iter 4100: loss 3.851 dyn_loss 0.039 obs_loss 381.225\n",
            ".... iter 4200: loss 3.851 dyn_loss 0.039 obs_loss 381.202\n",
            ".... iter 4300: loss 3.850 dyn_loss 0.039 obs_loss 381.180\n",
            ".... iter 4400: loss 3.850 dyn_loss 0.039 obs_loss 381.158\n",
            ".... iter 4500: loss 3.850 dyn_loss 0.039 obs_loss 381.137\n",
            ".... iter 4600: loss 3.850 dyn_loss 0.039 obs_loss 381.117\n",
            ".... iter 4700: loss 3.849 dyn_loss 0.039 obs_loss 381.097\n",
            ".... iter 4800: loss 3.849 dyn_loss 0.039 obs_loss 381.077\n",
            ".... iter 4900: loss 3.849 dyn_loss 0.039 obs_loss 381.058\n",
            ".... iter 5000: loss 3.849 dyn_loss 0.039 obs_loss 381.040\n",
            ".... iter 5100: loss 3.849 dyn_loss 0.039 obs_loss 381.021\n",
            ".... iter 5200: loss 3.849 dyn_loss 0.039 obs_loss 381.004\n",
            ".... iter 5300: loss 3.848 dyn_loss 0.039 obs_loss 380.987\n",
            ".... iter 5400: loss 3.848 dyn_loss 0.039 obs_loss 380.970\n",
            ".... iter 5500: loss 3.848 dyn_loss 0.039 obs_loss 380.953\n",
            ".... iter 5600: loss 3.848 dyn_loss 0.039 obs_loss 380.938\n",
            ".... iter 5700: loss 3.848 dyn_loss 0.039 obs_loss 380.922\n",
            ".... iter 5800: loss 3.848 dyn_loss 0.039 obs_loss 380.907\n",
            ".... iter 5900: loss 3.847 dyn_loss 0.039 obs_loss 380.892\n",
            ".... iter 6000: loss 3.847 dyn_loss 0.039 obs_loss 380.877\n",
            ".... iter 6100: loss 3.847 dyn_loss 0.039 obs_loss 380.863\n",
            ".... iter 6200: loss 3.847 dyn_loss 0.039 obs_loss 380.849\n",
            ".... iter 6300: loss 3.847 dyn_loss 0.039 obs_loss 380.836\n",
            ".... iter 6400: loss 3.847 dyn_loss 0.039 obs_loss 380.823\n",
            ".... iter 6500: loss 3.847 dyn_loss 0.039 obs_loss 380.810\n",
            ".... iter 6600: loss 3.846 dyn_loss 0.039 obs_loss 380.797\n",
            ".... iter 6700: loss 3.846 dyn_loss 0.039 obs_loss 380.785\n",
            ".... iter 6800: loss 3.846 dyn_loss 0.039 obs_loss 380.773\n",
            ".... iter 6900: loss 3.846 dyn_loss 0.039 obs_loss 380.762\n",
            ".... iter 7000: loss 3.846 dyn_loss 0.039 obs_loss 380.750\n",
            ".... iter 7100: loss 3.846 dyn_loss 0.039 obs_loss 380.739\n",
            ".... iter 7200: loss 3.846 dyn_loss 0.039 obs_loss 380.728\n",
            ".... iter 7300: loss 3.846 dyn_loss 0.039 obs_loss 380.717\n",
            ".... iter 7400: loss 3.846 dyn_loss 0.039 obs_loss 380.707\n",
            ".... iter 7500: loss 3.845 dyn_loss 0.039 obs_loss 380.697\n",
            ".... iter 7600: loss 3.845 dyn_loss 0.039 obs_loss 380.687\n",
            ".... iter 7700: loss 3.845 dyn_loss 0.039 obs_loss 380.677\n",
            ".... iter 7800: loss 3.845 dyn_loss 0.039 obs_loss 380.668\n",
            ".... iter 7900: loss 3.845 dyn_loss 0.039 obs_loss 380.658\n",
            ".... iter 8000: loss 3.845 dyn_loss 0.039 obs_loss 380.649\n",
            ".... iter 8100: loss 3.845 dyn_loss 0.039 obs_loss 380.641\n",
            ".... iter 8200: loss 3.845 dyn_loss 0.039 obs_loss 380.632\n",
            ".... iter 8300: loss 3.845 dyn_loss 0.039 obs_loss 380.623\n",
            ".... iter 8400: loss 3.845 dyn_loss 0.039 obs_loss 380.615\n",
            ".... iter 8500: loss 3.845 dyn_loss 0.039 obs_loss 380.607\n",
            ".... iter 8600: loss 3.844 dyn_loss 0.039 obs_loss 380.599\n",
            ".... iter 8700: loss 3.844 dyn_loss 0.039 obs_loss 380.591\n",
            ".... iter 8800: loss 3.844 dyn_loss 0.039 obs_loss 380.583\n",
            ".... iter 8900: loss 3.844 dyn_loss 0.039 obs_loss 380.576\n",
            ".... iter 9000: loss 3.844 dyn_loss 0.039 obs_loss 380.569\n",
            ".... iter 9100: loss 3.844 dyn_loss 0.039 obs_loss 380.562\n",
            ".... iter 9200: loss 3.844 dyn_loss 0.039 obs_loss 380.555\n",
            ".... iter 9300: loss 3.844 dyn_loss 0.039 obs_loss 380.548\n",
            ".... iter 9400: loss 3.844 dyn_loss 0.039 obs_loss 380.541\n",
            ".... iter 9500: loss 3.844 dyn_loss 0.039 obs_loss 380.534\n",
            ".... iter 9600: loss 3.844 dyn_loss 0.039 obs_loss 380.528\n",
            ".... iter 9700: loss 3.844 dyn_loss 0.039 obs_loss 380.522\n",
            ".... iter 9800: loss 3.844 dyn_loss 0.039 obs_loss 380.515\n",
            ".... iter 9900: loss 3.844 dyn_loss 0.039 obs_loss 380.509\n",
            ".... iter 10000: loss 3.843 dyn_loss 0.039 obs_loss 380.503\n",
            ".... iter 10100: loss 3.843 dyn_loss 0.039 obs_loss 380.498\n",
            ".... iter 10200: loss 3.843 dyn_loss 0.039 obs_loss 380.492\n",
            ".... iter 10300: loss 3.843 dyn_loss 0.039 obs_loss 380.486\n",
            ".... iter 10400: loss 3.843 dyn_loss 0.039 obs_loss 380.481\n",
            ".... iter 10500: loss 3.843 dyn_loss 0.039 obs_loss 380.475\n",
            ".... iter 10600: loss 3.843 dyn_loss 0.039 obs_loss 380.470\n",
            ".... iter 10700: loss 3.843 dyn_loss 0.039 obs_loss 380.465\n",
            ".... iter 10800: loss 3.843 dyn_loss 0.039 obs_loss 380.460\n",
            ".... iter 10900: loss 3.843 dyn_loss 0.039 obs_loss 380.455\n",
            ".... iter 11000: loss 3.843 dyn_loss 0.039 obs_loss 380.450\n",
            ".... iter 11100: loss 3.843 dyn_loss 0.039 obs_loss 380.445\n",
            ".... iter 11200: loss 3.843 dyn_loss 0.039 obs_loss 380.440\n",
            ".... iter 11300: loss 3.843 dyn_loss 0.039 obs_loss 380.436\n",
            ".... iter 11400: loss 3.843 dyn_loss 0.039 obs_loss 380.431\n",
            ".... iter 11500: loss 3.843 dyn_loss 0.039 obs_loss 380.426\n",
            ".... iter 11600: loss 3.843 dyn_loss 0.039 obs_loss 380.422\n",
            ".... iter 11700: loss 3.843 dyn_loss 0.039 obs_loss 380.418\n",
            ".... iter 11800: loss 3.843 dyn_loss 0.039 obs_loss 380.413\n",
            ".... iter 11900: loss 3.843 dyn_loss 0.039 obs_loss 380.409\n",
            ".... iter 12000: loss 3.842 dyn_loss 0.039 obs_loss 380.405\n",
            ".... iter 12100: loss 3.842 dyn_loss 0.039 obs_loss 380.401\n",
            ".... iter 12200: loss 3.842 dyn_loss 0.039 obs_loss 380.397\n",
            ".... iter 12300: loss 3.842 dyn_loss 0.039 obs_loss 380.393\n",
            ".... iter 12400: loss 3.842 dyn_loss 0.039 obs_loss 380.389\n",
            ".... iter 12500: loss 3.842 dyn_loss 0.039 obs_loss 380.385\n",
            ".... iter 12600: loss 3.842 dyn_loss 0.039 obs_loss 380.382\n",
            ".... iter 12700: loss 3.842 dyn_loss 0.039 obs_loss 380.378\n",
            ".... iter 12800: loss 3.842 dyn_loss 0.039 obs_loss 380.374\n",
            ".... iter 12900: loss 3.842 dyn_loss 0.039 obs_loss 380.371\n",
            ".... iter 13000: loss 3.842 dyn_loss 0.039 obs_loss 380.367\n",
            ".... iter 13100: loss 3.842 dyn_loss 0.039 obs_loss 380.364\n",
            ".... iter 13200: loss 3.842 dyn_loss 0.039 obs_loss 380.360\n",
            ".... iter 13300: loss 3.842 dyn_loss 0.039 obs_loss 380.357\n",
            ".... iter 13400: loss 3.842 dyn_loss 0.039 obs_loss 380.354\n",
            ".... iter 13500: loss 3.842 dyn_loss 0.039 obs_loss 380.351\n",
            ".... iter 13600: loss 3.842 dyn_loss 0.039 obs_loss 380.347\n",
            ".... iter 13700: loss 3.842 dyn_loss 0.039 obs_loss 380.344\n",
            ".... iter 13800: loss 3.842 dyn_loss 0.039 obs_loss 380.341\n",
            ".... iter 13900: loss 3.842 dyn_loss 0.039 obs_loss 380.338\n",
            ".... iter 14000: loss 3.842 dyn_loss 0.039 obs_loss 380.335\n",
            ".... iter 14100: loss 3.842 dyn_loss 0.039 obs_loss 380.332\n",
            ".... iter 14200: loss 3.842 dyn_loss 0.039 obs_loss 380.329\n",
            ".... iter 14300: loss 3.842 dyn_loss 0.039 obs_loss 380.326\n",
            ".... iter 14400: loss 3.842 dyn_loss 0.039 obs_loss 380.323\n",
            ".... iter 14500: loss 3.842 dyn_loss 0.039 obs_loss 380.320\n",
            ".... iter 14600: loss 3.842 dyn_loss 0.039 obs_loss 380.318\n",
            ".... iter 14700: loss 3.842 dyn_loss 0.039 obs_loss 380.315\n",
            ".... iter 14800: loss 3.842 dyn_loss 0.039 obs_loss 380.312\n",
            ".... iter 14900: loss 3.842 dyn_loss 0.039 obs_loss 380.309\n",
            ".... iter 15000: loss 3.841 dyn_loss 0.039 obs_loss 380.307\n",
            ".... iter 15100: loss 3.841 dyn_loss 0.039 obs_loss 380.304\n",
            ".... iter 15200: loss 3.841 dyn_loss 0.039 obs_loss 380.301\n",
            ".... iter 15300: loss 3.841 dyn_loss 0.039 obs_loss 380.299\n",
            ".... iter 15400: loss 3.841 dyn_loss 0.039 obs_loss 380.296\n",
            ".... iter 15500: loss 3.841 dyn_loss 0.039 obs_loss 380.294\n",
            ".... iter 15600: loss 3.841 dyn_loss 0.039 obs_loss 380.291\n",
            ".... iter 15700: loss 3.841 dyn_loss 0.039 obs_loss 380.289\n",
            ".... iter 15800: loss 3.841 dyn_loss 0.039 obs_loss 380.286\n",
            ".... iter 15900: loss 3.841 dyn_loss 0.039 obs_loss 380.284\n",
            ".... iter 16000: loss 3.841 dyn_loss 0.039 obs_loss 380.281\n",
            ".... iter 16100: loss 3.841 dyn_loss 0.039 obs_loss 380.279\n",
            ".... iter 16200: loss 3.841 dyn_loss 0.039 obs_loss 380.277\n",
            ".... iter 16300: loss 3.841 dyn_loss 0.039 obs_loss 380.274\n",
            ".... iter 16400: loss 3.841 dyn_loss 0.039 obs_loss 380.272\n",
            ".... iter 16500: loss 3.841 dyn_loss 0.039 obs_loss 380.270\n",
            ".... iter 16600: loss 3.841 dyn_loss 0.039 obs_loss 380.268\n",
            ".... iter 16700: loss 3.841 dyn_loss 0.039 obs_loss 380.265\n",
            ".... iter 16800: loss 3.841 dyn_loss 0.039 obs_loss 380.263\n",
            ".... iter 16900: loss 3.841 dyn_loss 0.039 obs_loss 380.261\n",
            ".... iter 17000: loss 3.841 dyn_loss 0.039 obs_loss 380.259\n",
            ".... iter 17100: loss 3.841 dyn_loss 0.039 obs_loss 380.257\n",
            ".... iter 17200: loss 3.841 dyn_loss 0.039 obs_loss 380.255\n",
            ".... iter 17300: loss 3.841 dyn_loss 0.039 obs_loss 380.252\n",
            ".... iter 17400: loss 3.841 dyn_loss 0.039 obs_loss 380.250\n",
            ".... iter 17500: loss 3.841 dyn_loss 0.039 obs_loss 380.248\n",
            ".... iter 17600: loss 3.841 dyn_loss 0.039 obs_loss 380.246\n",
            ".... iter 17700: loss 3.841 dyn_loss 0.039 obs_loss 380.244\n",
            ".... iter 17800: loss 3.841 dyn_loss 0.039 obs_loss 380.242\n",
            ".... iter 17900: loss 3.841 dyn_loss 0.039 obs_loss 380.240\n",
            ".... iter 18000: loss 3.841 dyn_loss 0.039 obs_loss 380.238\n",
            ".... iter 18100: loss 3.841 dyn_loss 0.039 obs_loss 380.236\n",
            ".... iter 18200: loss 3.841 dyn_loss 0.039 obs_loss 380.234\n",
            ".... iter 18300: loss 3.841 dyn_loss 0.039 obs_loss 380.232\n",
            ".... iter 18400: loss 3.841 dyn_loss 0.039 obs_loss 380.230\n",
            ".... iter 18500: loss 3.841 dyn_loss 0.039 obs_loss 380.229\n",
            ".... iter 18600: loss 3.841 dyn_loss 0.039 obs_loss 380.227\n",
            ".... iter 18700: loss 3.841 dyn_loss 0.039 obs_loss 380.225\n",
            ".... iter 18800: loss 3.841 dyn_loss 0.039 obs_loss 380.223\n",
            ".... iter 18900: loss 3.841 dyn_loss 0.039 obs_loss 380.221\n",
            ".... iter 19000: loss 3.841 dyn_loss 0.039 obs_loss 380.219\n",
            ".... iter 19100: loss 3.841 dyn_loss 0.039 obs_loss 380.217\n",
            ".... iter 19200: loss 3.841 dyn_loss 0.039 obs_loss 380.216\n",
            ".... iter 19300: loss 3.841 dyn_loss 0.039 obs_loss 380.214\n",
            ".... iter 19400: loss 3.841 dyn_loss 0.039 obs_loss 380.212\n",
            ".... iter 19500: loss 3.841 dyn_loss 0.039 obs_loss 380.210\n",
            ".... iter 19600: loss 3.840 dyn_loss 0.039 obs_loss 380.209\n",
            ".... iter 19700: loss 3.840 dyn_loss 0.039 obs_loss 380.207\n",
            ".... iter 19800: loss 3.840 dyn_loss 0.039 obs_loss 380.205\n",
            ".... iter 19900: loss 3.840 dyn_loss 0.039 obs_loss 380.203\n"
          ]
        }
      ]
    },
    {
      "cell_type": "code",
      "metadata": {
        "colab": {
          "base_uri": "https://localhost:8080/",
          "height": 338
        },
        "id": "msCWD_21rlZV",
        "outputId": "c39f4a67-0684-4fd5-86a6-ac4251459356"
      },
      "source": [
        "XGT  = XGT_torch.cpu().detach().numpy()[t0:t0+dT,:]\n",
        "XHat = X_torch.cpu().detach().numpy()[t0:t0+dT,:]\n",
        "M    = M_torch.cpu().detach().numpy()[t0:t0+dT,:]\n",
        "YObs = YObs_torch.cpu().detach().numpy()[t0:t0+dT,:]\n",
        "\n",
        "## visualization\n",
        "plt.figure()\n",
        "for kk in range(0,3):\n",
        "  plt.subplot(1,3,kk+1)\n",
        "  plt.plot(YObs[kk,t0:t0+dT],'r.')\n",
        "  plt.plot(XGT[kk,:],'b-')\n",
        "  plt.plot(XHat[kk,:],'m-')\n",
        "\n",
        "# Reconstruction performance\n",
        "varXGT  = np.mean( (XGT - np.mean(XGT,axis=0))**2 )\n",
        "mse_All = np.mean( (XHat-XGT) **2 ) \n",
        "mse_I   = np.mean( (1.-M[t0:t0+dT,:]) * (XHat-XGT) **2 ) / np.mean( (1.-M[t0:t0+dT,:]) )\n",
        "mse_R   = np.mean( M[t0:t0+dT,:] * (XHat-XGT) **2 ) / np.mean( M[t0:t0+dT,:] )\n",
        "\n",
        "nmse_All = mse_All / varXGT\n",
        "nmse_I   = mse_I / varXGT\n",
        "nmse_R   = mse_R / varXGT\n",
        "\n",
        "print(\"..... Assimilation performance\")\n",
        "print(\".. MSE ALL.   : %.3f / %.3f\"%(mse_All,nmse_All))\n",
        "print(\".. MSE ObsData: %.3f / %.3f\"%(mse_R,nmse_R))\n",
        "print(\".. MSE Interp : %.3f / %.3f\"%(mse_I,nmse_I))\n"
      ],
      "execution_count": null,
      "outputs": [
        {
          "output_type": "stream",
          "name": "stdout",
          "text": [
            "..... Assimilation performance\n",
            ".. MSE ALL.   : 18.735 / 0.261\n",
            ".. MSE ObsData: 0.325 / 0.005\n",
            ".. MSE Interp : 32.529 / 0.453\n"
          ]
        },
        {
          "output_type": "display_data",
          "data": {
            "image/png": "[encoded data removed]",
            "text/plain": [
              "<Figure size 432x288 with 3 Axes>"
            ]
          },
          "metadata": {
            "needs_background": "light"
          }
        }
      ]
    }
  ]
}